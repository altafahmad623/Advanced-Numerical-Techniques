{
 "cells": [
  {
   "cell_type": "code",
   "execution_count": 1,
   "metadata": {},
   "outputs": [],
   "source": [
    "import numpy as np"
   ]
  },
  {
   "cell_type": "code",
   "execution_count": 23,
   "metadata": {},
   "outputs": [],
   "source": [
    "X = []\n",
    "for i in range(4):\n",
    "    X.append([[4,5],[2,3]])"
   ]
  },
  {
   "cell_type": "code",
   "execution_count": 24,
   "metadata": {
    "scrolled": true
   },
   "outputs": [
    {
     "name": "stdout",
     "output_type": "stream",
     "text": [
      "[[4, 5], [2, 3]]\n"
     ]
    }
   ],
   "source": [
    "print(X[0])"
   ]
  },
  {
   "cell_type": "code",
   "execution_count": 42,
   "metadata": {},
   "outputs": [],
   "source": [
    "a = np.array([ [[1,2],[3,4]], [[6,6],[7,8]] ])"
   ]
  },
  {
   "cell_type": "code",
   "execution_count": 43,
   "metadata": {},
   "outputs": [
    {
     "data": {
      "text/plain": [
       "array([[[1, 2],\n",
       "        [3, 4]],\n",
       "\n",
       "       [[6, 6],\n",
       "        [7, 8]]])"
      ]
     },
     "execution_count": 43,
     "metadata": {},
     "output_type": "execute_result"
    }
   ],
   "source": [
    "a"
   ]
  },
  {
   "cell_type": "code",
   "execution_count": 45,
   "metadata": {},
   "outputs": [],
   "source": [
    "a = np.append(a, [[[5,6],[7,8]]], axis = 0)"
   ]
  },
  {
   "cell_type": "code",
   "execution_count": 46,
   "metadata": {},
   "outputs": [
    {
     "data": {
      "text/plain": [
       "array([[[1, 2],\n",
       "        [3, 4]],\n",
       "\n",
       "       [[6, 6],\n",
       "        [7, 8]],\n",
       "\n",
       "       [[5, 6],\n",
       "        [7, 8]]])"
      ]
     },
     "execution_count": 46,
     "metadata": {},
     "output_type": "execute_result"
    }
   ],
   "source": [
    "a"
   ]
  },
  {
   "cell_type": "code",
   "execution_count": 55,
   "metadata": {},
   "outputs": [],
   "source": [
    "a = np.array([ [[1,2],[3,4]], [[6,6],[7,8]] ])\n",
    "for i in range(3):\n",
    "    a = np.append(a, [[[5+ i,6- i],[7+ i,8- i]]], axis = 0)"
   ]
  },
  {
   "cell_type": "code",
   "execution_count": 56,
   "metadata": {},
   "outputs": [
    {
     "data": {
      "text/plain": [
       "array([[[1, 2],\n",
       "        [3, 4]],\n",
       "\n",
       "       [[6, 6],\n",
       "        [7, 8]],\n",
       "\n",
       "       [[5, 6],\n",
       "        [7, 8]],\n",
       "\n",
       "       [[6, 5],\n",
       "        [8, 7]],\n",
       "\n",
       "       [[7, 4],\n",
       "        [9, 6]]])"
      ]
     },
     "execution_count": 56,
     "metadata": {},
     "output_type": "execute_result"
    }
   ],
   "source": [
    "a"
   ]
  },
  {
   "cell_type": "code",
   "execution_count": 61,
   "metadata": {},
   "outputs": [],
   "source": [
    "def A(x):\n",
    "    return 4\n",
    "def B(x):\n",
    "    return 1\n",
    "def C(x):\n",
    "    return -6\n",
    "def D(x):\n",
    "    return 1"
   ]
  },
  {
   "cell_type": "code",
   "execution_count": 63,
   "metadata": {},
   "outputs": [],
   "source": [
    "h = 0.2\n",
    "x_0 = 0\n",
    "x_n = 1\n",
    "n = int((x_n- x_0)/h  + 0.5 )"
   ]
  },
  {
   "cell_type": "code",
   "execution_count": 79,
   "metadata": {},
   "outputs": [],
   "source": [
    "x = np.array([])"
   ]
  },
  {
   "cell_type": "code",
   "execution_count": 80,
   "metadata": {},
   "outputs": [],
   "source": [
    "for i in range(n+1):\n",
    "    x = np.append(x, i*h)"
   ]
  },
  {
   "cell_type": "code",
   "execution_count": 81,
   "metadata": {},
   "outputs": [
    {
     "data": {
      "text/plain": [
       "array([0. , 0.2, 0.4, 0.6, 0.8, 1. ])"
      ]
     },
     "execution_count": 81,
     "metadata": {},
     "output_type": "execute_result"
    }
   ],
   "source": [
    "x"
   ]
  },
  {
   "cell_type": "code",
   "execution_count": 76,
   "metadata": {},
   "outputs": [
    {
     "data": {
      "text/plain": [
       "array([0. , 0.2, 0.4, 0.6, 0.8])"
      ]
     },
     "execution_count": 76,
     "metadata": {},
     "output_type": "execute_result"
    }
   ],
   "source": []
  },
  {
   "cell_type": "code",
   "execution_count": null,
   "metadata": {},
   "outputs": [],
   "source": []
  },
  {
   "cell_type": "code",
   "execution_count": 87,
   "metadata": {},
   "outputs": [],
   "source": [
    "A_star = np.array([ [[-1,-h/2],[0,((2 - A(x[0])*h)/(2*h*h) )]] ])\n",
    "B_star = np.array([ [[ 1,-h/2],[C(x[0]),B(x[0] - (2)/(h*h))]] ])\n",
    "C_star = np.array([ [[0 ,0],[0,((2 + A(x[0])*h)/(2*h*h) )]] ])\n",
    "D_star = np.array([ [[0,D(x[0])]] ])"
   ]
  },
  {
   "cell_type": "code",
   "execution_count": 89,
   "metadata": {},
   "outputs": [
    {
     "name": "stdout",
     "output_type": "stream",
     "text": [
      "A_star =\n",
      "[[[-1.  -0.1]\n",
      "  [ 0.  15. ]]]\n",
      "B_star =\n",
      "[[[ 1.  -0.1]\n",
      "  [-6.   1. ]]]\n",
      "C_star =\n",
      "[[[ 0.  0.]\n",
      "  [ 0. 35.]]]\n",
      "D_star =\n",
      "[[[0 1]]]\n"
     ]
    }
   ],
   "source": [
    "print(\"A_star =\" )\n",
    "print(A_star)\n",
    "print(\"B_star =\" )\n",
    "print(B_star)\n",
    "print(\"C_star =\" )\n",
    "print(C_star)\n",
    "print(\"D_star =\" )\n",
    "print(D_star)"
   ]
  },
  {
   "cell_type": "code",
   "execution_count": 116,
   "metadata": {},
   "outputs": [
    {
     "name": "stdout",
     "output_type": "stream",
     "text": [
      "A_star =\n",
      "[[[-1.  -0.1]\n",
      "  [ 0.  15. ]]]\n",
      "B_star =\n",
      "[[[  1.   -0.1]\n",
      "  [ -6.  -49. ]]]\n",
      "C_star =\n",
      "[[[ 0.  0.]\n",
      "  [ 0. 35.]]]\n",
      "D_star =\n",
      "[[[0]\n",
      "  [1]]]\n",
      "1\n",
      "2\n",
      "3\n",
      "4\n",
      "5\n",
      "Now, after running the loop\n",
      "A_star =\n",
      "[[[-1.  -0.1]\n",
      "  [ 0.  15. ]]\n",
      "\n",
      " [[-1.  -0.1]\n",
      "  [ 0.  15. ]]\n",
      "\n",
      " [[-1.  -0.1]\n",
      "  [ 0.  15. ]]\n",
      "\n",
      " [[-1.  -0.1]\n",
      "  [ 0.  15. ]]\n",
      "\n",
      " [[-1.  -0.1]\n",
      "  [ 0.  15. ]]\n",
      "\n",
      " [[-1.  -0.1]\n",
      "  [ 0.  15. ]]]\n",
      "B_star =\n",
      "[[[  1.   -0.1]\n",
      "  [ -6.  -49. ]]\n",
      "\n",
      " [[  1.   -0.1]\n",
      "  [ -6.  -49. ]]\n",
      "\n",
      " [[  1.   -0.1]\n",
      "  [ -6.  -49. ]]\n",
      "\n",
      " [[  1.   -0.1]\n",
      "  [ -6.  -49. ]]\n",
      "\n",
      " [[  1.   -0.1]\n",
      "  [ -6.  -49. ]]\n",
      "\n",
      " [[  1.   -0.1]\n",
      "  [ -6.  -49. ]]]\n",
      "C_star =\n",
      "[[[ 0.  0.]\n",
      "  [ 0. 35.]]\n",
      "\n",
      " [[ 0.  0.]\n",
      "  [ 0. 35.]]\n",
      "\n",
      " [[ 0.  0.]\n",
      "  [ 0. 35.]]\n",
      "\n",
      " [[ 0.  0.]\n",
      "  [ 0. 35.]]\n",
      "\n",
      " [[ 0.  0.]\n",
      "  [ 0. 35.]]\n",
      "\n",
      " [[ 0.  0.]\n",
      "  [ 0. 35.]]]\n",
      "D_star =\n",
      "[[[0]\n",
      "  [1]]\n",
      "\n",
      " [[0]\n",
      "  [1]]\n",
      "\n",
      " [[0]\n",
      "  [1]]\n",
      "\n",
      " [[0]\n",
      "  [1]]\n",
      "\n",
      " [[0]\n",
      "  [1]]\n",
      "\n",
      " [[0]\n",
      "  [1]]]\n"
     ]
    }
   ],
   "source": [
    "A_star = np.array([ [[-1,-h/2],[0,((2 - A(x[0])*h)/(2*h*h) )]] ])\n",
    "B_star = np.array([ [[ 1,-h/2],[C(x[0]),B(x[0]) - ((2)/(h*h))]] ])\n",
    "C_star = np.array([ [[0 ,0],[0,((2 + A(x[0])*h)/(2*h*h) )]] ])\n",
    "D_star = np.array([ [[0],[D(x[0])]] ])\n",
    "print(\"A_star =\" )\n",
    "print(A_star)\n",
    "print(\"B_star =\" )\n",
    "print(B_star)\n",
    "print(\"C_star =\" )\n",
    "print(C_star)\n",
    "print(\"D_star =\" )\n",
    "print(D_star)\n",
    "for i in range(1,n+1):\n",
    "    A_star = np.append(A_star,[ [[-1,-h/2],[0,((2 - A(x[i])*h)/(2*h*h) )]] ], axis=0)\n",
    "    B_star = np.append(B_star,[ [[ 1,-h/2],[C(x[0]),B(x[i]) - ((2)/(h*h))]] ], axis=0)\n",
    "    C_star = np.append(C_star,[ [[0 ,0],[0,((2 + A(x[i])*h)/(2*h*h) )]] ], axis=0)\n",
    "    D_star = np.append(D_star,[ [[0],[D(x[i])]] ], axis=0)\n",
    "    print(i)\n",
    "print(\"Now, after running the loop\")\n",
    "print(\"A_star =\" )\n",
    "print(A_star)\n",
    "print(\"B_star =\" )\n",
    "print(B_star)\n",
    "print(\"C_star =\" )\n",
    "print(C_star)\n",
    "print(\"D_star =\" )\n",
    "print(D_star)"
   ]
  },
  {
   "cell_type": "code",
   "execution_count": 96,
   "metadata": {},
   "outputs": [
    {
     "data": {
      "text/plain": [
       "array([[-1. , -0.1],\n",
       "       [ 0. , 15. ]])"
      ]
     },
     "execution_count": 96,
     "metadata": {},
     "output_type": "execute_result"
    }
   ],
   "source": [
    "np.transpose(A_star[0])"
   ]
  },
  {
   "cell_type": "code",
   "execution_count": 97,
   "metadata": {},
   "outputs": [
    {
     "data": {
      "text/plain": [
       "array([[-1. ,  0. ],\n",
       "       [-0.1, 15. ]])"
      ]
     },
     "execution_count": 97,
     "metadata": {},
     "output_type": "execute_result"
    }
   ],
   "source": [
    "np.transpose(A_star[0])"
   ]
  },
  {
   "cell_type": "code",
   "execution_count": 240,
   "metadata": {},
   "outputs": [],
   "source": [
    "X_ans = np.array([[[0],[0]]],dtype = float)"
   ]
  },
  {
   "cell_type": "code",
   "execution_count": 241,
   "metadata": {},
   "outputs": [],
   "source": [
    "for i in range(n):\n",
    "    X_ans = np.append(X_ans, [[[0],[0]]] ,axis = 0)"
   ]
  },
  {
   "cell_type": "code",
   "execution_count": 242,
   "metadata": {},
   "outputs": [
    {
     "data": {
      "text/plain": [
       "array([[[0.],\n",
       "        [0.]],\n",
       "\n",
       "       [[0.],\n",
       "        [0.]],\n",
       "\n",
       "       [[0.],\n",
       "        [0.]],\n",
       "\n",
       "       [[0.],\n",
       "        [0.]],\n",
       "\n",
       "       [[0.],\n",
       "        [0.]],\n",
       "\n",
       "       [[0.],\n",
       "        [0.]]])"
      ]
     },
     "execution_count": 242,
     "metadata": {},
     "output_type": "execute_result"
    }
   ],
   "source": [
    "X_ans"
   ]
  },
  {
   "cell_type": "code",
   "execution_count": 230,
   "metadata": {},
   "outputs": [],
   "source": [
    "X_ans[n] = np.array([[[0],[1]]])"
   ]
  },
  {
   "cell_type": "code",
   "execution_count": 231,
   "metadata": {},
   "outputs": [
    {
     "data": {
      "text/plain": [
       "array([[[0.],\n",
       "        [0.]],\n",
       "\n",
       "       [[0.],\n",
       "        [0.]],\n",
       "\n",
       "       [[0.],\n",
       "        [0.]],\n",
       "\n",
       "       [[0.],\n",
       "        [0.]],\n",
       "\n",
       "       [[0.],\n",
       "        [0.]],\n",
       "\n",
       "       [[0.],\n",
       "        [1.]]])"
      ]
     },
     "execution_count": 231,
     "metadata": {},
     "output_type": "execute_result"
    }
   ],
   "source": [
    "X_ans"
   ]
  },
  {
   "cell_type": "code",
   "execution_count": null,
   "metadata": {},
   "outputs": [],
   "source": []
  },
  {
   "cell_type": "code",
   "execution_count": 114,
   "metadata": {},
   "outputs": [],
   "source": [
    "#X_ans = np.append(X_ans, [[[2],[3]]],axis = 0)\n",
    "D_star[1] = D_star[1] - np.dot(A_star[1],X_ans[0])"
   ]
  },
  {
   "cell_type": "code",
   "execution_count": 119,
   "metadata": {},
   "outputs": [
    {
     "data": {
      "text/plain": [
       "array([[-0.00201613],\n",
       "       [-0.02016129]])"
      ]
     },
     "execution_count": 119,
     "metadata": {},
     "output_type": "execute_result"
    }
   ],
   "source": [
    "#X_ans\n",
    "np.dot(np.linalg.inv(B_star[1]),D_star[1] )"
   ]
  },
  {
   "cell_type": "code",
   "execution_count": 140,
   "metadata": {},
   "outputs": [],
   "source": [
    "cc_dash = np.dot(np.linalg.inv(B_star[1]),C_star[1] )\n",
    "dd_dash = np.dot(np.linalg.inv(B_star[1]),D_star[1] )"
   ]
  },
  {
   "cell_type": "code",
   "execution_count": 141,
   "metadata": {},
   "outputs": [],
   "source": [
    "C_dash = np.array([cc_dash])\n",
    "D_dash = np.array([dd_dash])"
   ]
  },
  {
   "cell_type": "code",
   "execution_count": 142,
   "metadata": {},
   "outputs": [],
   "source": [
    "C_dash = np.append(C_dash, [cc_dash], axis = 0)\n",
    "D_dash = np.append(D_dash, [dd_dash], axis = 0)"
   ]
  },
  {
   "cell_type": "code",
   "execution_count": 143,
   "metadata": {},
   "outputs": [
    {
     "data": {
      "text/plain": [
       "array([[ 0.        , -0.07056452],\n",
       "       [ 0.        , -0.70564516]])"
      ]
     },
     "execution_count": 143,
     "metadata": {},
     "output_type": "execute_result"
    }
   ],
   "source": [
    "C_dash[1]"
   ]
  },
  {
   "cell_type": "code",
   "execution_count": 138,
   "metadata": {},
   "outputs": [],
   "source": [
    "i = 2\n",
    "b_dash = (B_star[i] - np.dot(A_star[i],C_dash[i-1]) )\n",
    "b_dashinv = np.linalg.inv(b_dash)\n",
    "cc_dash = np.dot(b_dashinv,C_star[i])\n",
    "dd_dash = np.dot(b_dashinv , D_star[i] - np.dot(A_star[i],D_dash[i-1]))"
   ]
  },
  {
   "cell_type": "code",
   "execution_count": 146,
   "metadata": {},
   "outputs": [
    {
     "data": {
      "text/plain": [
       "array([[-0.01176435],\n",
       "       [-0.0320662 ]])"
      ]
     },
     "execution_count": 146,
     "metadata": {},
     "output_type": "execute_result"
    }
   ],
   "source": []
  },
  {
   "cell_type": "code",
   "execution_count": 147,
   "metadata": {},
   "outputs": [],
   "source": [
    "for i in range(2,n):\n",
    "    b_dash = (B_star[i] - np.dot(A_star[i],C_dash[i-1]) )\n",
    "    b_dashinv = np.linalg.inv(b_dash)\n",
    "    cc_dash = np.dot(b_dashinv,C_star[i])\n",
    "    dd_dash = np.dot(b_dashinv , D_star[i] - np.dot(A_star[i],D_dash[i-1]))\n",
    "    C_dash = np.append(C_dash, [cc_dash], axis = 0)\n",
    "    D_dash = np.append(D_dash, [dd_dash], axis = 0)"
   ]
  },
  {
   "cell_type": "code",
   "execution_count": 148,
   "metadata": {},
   "outputs": [
    {
     "data": {
      "text/plain": [
       "array([[[ 0.        , -0.07056452],\n",
       "        [ 0.        , -0.70564516]],\n",
       "\n",
       "       [[ 0.        , -0.07056452],\n",
       "        [ 0.        , -0.70564516]],\n",
       "\n",
       "       [[ 0.        , -0.21171782],\n",
       "        [ 0.        , -0.87802707]],\n",
       "\n",
       "       [[ 0.        , -0.365797  ],\n",
       "        [ 0.        , -0.91559   ]],\n",
       "\n",
       "       [[ 0.        , -0.50523998],\n",
       "        [ 0.        , -0.90649419]]])"
      ]
     },
     "execution_count": 148,
     "metadata": {},
     "output_type": "execute_result"
    }
   ],
   "source": [
    "C_dash"
   ]
  },
  {
   "cell_type": "code",
   "execution_count": 162,
   "metadata": {},
   "outputs": [
    {
     "data": {
      "text/plain": [
       "array([[[-0.00201613],\n",
       "        [-0.02016129]],\n",
       "\n",
       "       [[-0.00201613],\n",
       "        [-0.02016129]],\n",
       "\n",
       "       [[-0.01176435],\n",
       "        [-0.0320662 ]],\n",
       "\n",
       "       [[-0.02951053],\n",
       "        [-0.03639253]],\n",
       "\n",
       "       [[-0.05259415],\n",
       "        [-0.0348868 ]]])"
      ]
     },
     "execution_count": 162,
     "metadata": {},
     "output_type": "execute_result"
    }
   ],
   "source": [
    "D_dash"
   ]
  },
  {
   "cell_type": "code",
   "execution_count": 163,
   "metadata": {},
   "outputs": [],
   "source": [
    "b_dash = (B_star[n-1] - np.dot(A_star[n-1],C_dash[n-2]) )\n",
    "b_dashinv = np.linalg.inv(b_dash)"
   ]
  },
  {
   "cell_type": "code",
   "execution_count": 189,
   "metadata": {},
   "outputs": [],
   "source": [
    "final_ans = np.dot(b_dashinv, D_star[n-1] - np.dot(C_star[n-1],X_ans[n]) - np.dot(A_star[n-1], D_dash[n-2]))"
   ]
  },
  {
   "cell_type": "code",
   "execution_count": 210,
   "metadata": {},
   "outputs": [
    {
     "data": {
      "text/plain": [
       "0.4526458221053572"
      ]
     },
     "execution_count": 210,
     "metadata": {},
     "output_type": "execute_result"
    }
   ],
   "source": [
    "final_ans[0][0]"
   ]
  },
  {
   "cell_type": "code",
   "execution_count": 223,
   "metadata": {},
   "outputs": [
    {
     "data": {
      "text/plain": [
       "array([[0.45264582],\n",
       "       [0.87160739]])"
      ]
     },
     "execution_count": 223,
     "metadata": {},
     "output_type": "execute_result"
    }
   ],
   "source": [
    "final_ans"
   ]
  },
  {
   "cell_type": "code",
   "execution_count": 236,
   "metadata": {},
   "outputs": [],
   "source": []
  },
  {
   "cell_type": "code",
   "execution_count": 237,
   "metadata": {},
   "outputs": [],
   "source": [
    "X_ans[n-1] =  np.array(final_ans) "
   ]
  },
  {
   "cell_type": "code",
   "execution_count": 238,
   "metadata": {},
   "outputs": [
    {
     "data": {
      "text/plain": [
       "array([[[0.        ],\n",
       "        [0.        ]],\n",
       "\n",
       "       [[0.        ],\n",
       "        [0.        ]],\n",
       "\n",
       "       [[0.        ],\n",
       "        [0.        ]],\n",
       "\n",
       "       [[0.        ],\n",
       "        [0.        ]],\n",
       "\n",
       "       [[0.45264582],\n",
       "        [0.87160739]],\n",
       "\n",
       "       [[0.        ],\n",
       "        [1.        ]]])"
      ]
     },
     "execution_count": 238,
     "metadata": {},
     "output_type": "execute_result"
    }
   ],
   "source": [
    "X_ans"
   ]
  },
  {
   "cell_type": "code",
   "execution_count": null,
   "metadata": {},
   "outputs": [],
   "source": [
    "D_dash[] - np.dot(C_dash[i], X_ans[i+1])"
   ]
  },
  {
   "cell_type": "code",
   "execution_count": 239,
   "metadata": {},
   "outputs": [
    {
     "name": "stdout",
     "output_type": "stream",
     "text": [
      "X[3] = \n",
      "[[0.28932083]\n",
      " [0.76164248]]\n",
      "X[2] = \n",
      "[[0.14948893]\n",
      " [0.63667652]]\n",
      "X[1] = \n",
      "[[0.04291064]\n",
      " [0.42910641]]\n"
     ]
    }
   ],
   "source": [
    "for i in range(n-2, 0,-1):\n",
    "    #D_dash[i] - np.dot(C_dash[i], X_ans[i+1])\n",
    "    X_ans[i] = np.array(D_dash[i] - np.dot(C_dash[i], X_ans[i+1]))\n",
    "    print(\"X[\"+str(i) +\"] = \")\n",
    "    print(X_ans[i])"
   ]
  },
  {
   "cell_type": "markdown",
   "metadata": {},
   "source": [
    "Now, we need to add the conditions for $h \\; \\And \\; x_0, x_n , n $\n",
    "Now, we define our matrices $A^*_{i}, B^*_{i}, C^*_{i}\\,  \\And D\\,^*_{i}  $"
   ]
  },
  {
   "cell_type": "markdown",
   "metadata": {},
   "source": [
    "Here, we also need to add the initial conditions, .i.e , <br> \n",
    "$ X_0 = \\begin{bmatrix} 0 \\\\ 0 \\end{bmatrix} \\;$ $ \\And \\; X_n = \\begin{bmatrix}0\\\\0 \\end{bmatrix} $"
   ]
  },
  {
   "cell_type": "markdown",
   "metadata": {},
   "source": [
    "Now, we need to modify the value of $ D^*_1$ because we have $ A^*_1 X_0 + B^*_1X_1 + C^*_1 X_2 = D^*_1 $ and we already know the value of $X_0$, so it can be shifted to the RHS <br>$ \\Rightarrow B^*_1X_1 + C^*_1 X_2 = D^*_1 - A^*_1 X_0 \\;\\Rightarrow D^*_1 = D^*_1 - A^*_1 X_0 \\;$"
   ]
  },
  {
   "cell_type": "markdown",
   "metadata": {},
   "source": [
    "Now, we will transform the given equations into the form : $$ \n",
    "X_i + C'_i X_{i+1}= D'_i\n",
    "$$\n",
    "where, $C'_1 = (B^*_1)^{-1} C^*_1 \\; \\And \\; D'_1 = (B^*_1)^{-1} D^*_1$ <br> and \n",
    "$ B'_i = (B^*_i - A^*_i C'_{i-1}) $ <br>$C'_i =  (B'_i)^{-1} C_i $ <br>$ D'_i = (B'_i)^{-1} (D^*_i - A^*_iD'_{i-1}) $ <br> for $ i = 2,3,..., n-1$ "
   ]
  },
  {
   "cell_type": "markdown",
   "metadata": {},
   "source": [
    "Now, we have $ X_{n-1} = (B^*_{n-1}- A^*_{n-1}C'_{n-2})^{-1} (D^*_{n-1}- C^*_{n-1}X_n -A^*_{n-1}D'_{n-2})$"
   ]
  },
  {
   "cell_type": "markdown",
   "metadata": {},
   "source": [
    "After that we have, $X_i = D'_i-C'_iX_{i+1} \\; \\forall \\,  i =(n-2), (n-3), ... , 1$"
   ]
  },
  {
   "cell_type": "code",
   "execution_count": 2,
   "metadata": {},
   "outputs": [],
   "source": [
    "def g_a(f_i_minus, f_i , f_i_plus,F_i_minus, F_i , F_i_plus, h, x_i):\n",
    "    k = f_i - f_i_minus - h* ((F_i + F_i_minus)/2.0)\n",
    "    return k\n",
    "def g_a_dash_f_minus(f_i_minus, f_i , f_i_plus,F_i_minus, F_i , F_i_plus, h, x_i):\n",
    "    k = -1.0\n",
    "    return k\n",
    "def g_a_dash_f_i(f_i_minus, f_i , f_i_plus,F_i_minus, F_i , F_i_plus, h, x_i):\n",
    "    k = 1.0\n",
    "    return k\n",
    "def g_a_dash_f_plus(f_i_minus, f_i , f_i_plus,F_i_minus, F_i , F_i_plus, h, x_i):\n",
    "    k = 0.0\n",
    "    return k\n",
    "def g_a_dash_F_minus(f_i_minus, f_i , f_i_plus,F_i_minus, F_i , F_i_plus, h, x_i):\n",
    "    k = -h/2\n",
    "    return k\n",
    "def g_a_dash_F_i(f_i_minus, f_i , f_i_plus,F_i_minus, F_i , F_i_plus, h, x_i):\n",
    "    k = -h/2\n",
    "    return k\n",
    "def g_a_dash_F_plus(f_i_minus, f_i , f_i_plus,F_i_minus, F_i , F_i_plus, h, x_i):\n",
    "    k = 0.0\n",
    "    return k\n",
    "\n",
    "def g_b(f_i_minus, f_i , f_i_plus,F_i_minus, F_i , F_i_plus, h, x_i):\n",
    "    k = ((F_i_plus - 2 * F_i + F_i_minus)/ (h*h)) + f_i *((F_i_plus - F_i_minus)/ (2*h)) + 1 - F_i*F_i\n",
    "    return k\n",
    "def g_b_dash_f_minus(f_i_minus, f_i , f_i_plus,F_i_minus, F_i , F_i_plus, h, x_i):\n",
    "    k = 0.0\n",
    "    return k\n",
    "def g_b_dash_f_i(f_i_minus, f_i , f_i_plus,F_i_minus, F_i , F_i_plus, h, x_i):\n",
    "    k = (F_i_plus - F_i_minus)/ (2*h)\n",
    "    return k\n",
    "def g_b_dash_f_plus(f_i_minus, f_i , f_i_plus,F_i_minus, F_i , F_i_plus, h, x_i):\n",
    "    k = 0.0\n",
    "    return k\n",
    "def g_b_dash_F_minus(f_i_minus, f_i , f_i_plus,F_i_minus, F_i , F_i_plus, h, x_i):\n",
    "    k = (1/(h*h)) - (f_i/(2*h))\n",
    "    return k\n",
    "def g_b_dash_F_i(f_i_minus, f_i , f_i_plus,F_i_minus, F_i , F_i_plus, h, x_i):\n",
    "    k = (-2/(h*h)) - 2 * F_i\n",
    "    return k\n",
    "def g_b_dash_F_plus(f_i_minus, f_i , f_i_plus,F_i_minus, F_i , F_i_plus, h, x_i):\n",
    "    k = (1/(h*h)) + (f_i/(2*h))\n",
    "    return k"
   ]
  },
  {
   "cell_type": "code",
   "execution_count": 3,
   "metadata": {},
   "outputs": [],
   "source": [
    "h = 1\n",
    "x_0 = 0\n",
    "x_n = 10\n",
    "n = int((x_n- x_0)/h  + 0.5 )\n",
    "x = np.array([])\n",
    "for i in range(n+1):\n",
    "    x = np.append(x, i*h)"
   ]
  },
  {
   "cell_type": "code",
   "execution_count": 4,
   "metadata": {},
   "outputs": [],
   "source": [
    "f_0 = 0\n",
    "F_0 = 0\n",
    "F_n = 1.0\n",
    "del_F = (F_n - F_0)/n\n",
    "f_elements = np.array([])\n",
    "F_elements = np.array([])\n",
    "k = F_0\n",
    "for i in range(n+1):\n",
    "    f_elements = np.append(f_elements, 0)\n",
    "    F_elements = np.append(F_elements, k)\n",
    "    k = k + del_F"
   ]
  },
  {
   "cell_type": "code",
   "execution_count": 26,
   "metadata": {},
   "outputs": [],
   "source": [
    "error = 0.00001\n",
    "diff = 1"
   ]
  },
  {
   "cell_type": "markdown",
   "metadata": {},
   "source": [
    "This has to be defined inside the loop"
   ]
  },
  {
   "cell_type": "code",
   "execution_count": 7,
   "metadata": {},
   "outputs": [
    {
     "name": "stdout",
     "output_type": "stream",
     "text": [
      "A_1 =\n",
      "[[[-1.  -0.5]\n",
      "  [ 0.   1. ]]]\n",
      "B_1 =\n",
      "[[[ 1.  -0.5]\n",
      "  [ 0.1 -2.2]]]\n",
      "C_1 =\n",
      "[[[0. 0.]\n",
      "  [0. 1.]]]\n",
      "D_1 =\n",
      "[[[ 0.05]\n",
      "  [-0.99]]]\n",
      "X[8] = \n",
      "[[15.1648056 ]\n",
      " [ 1.09906354]]\n",
      "X[7] = \n",
      "[[13.21793271]\n",
      " [ 1.29468225]]\n",
      "X[6] = \n",
      "[[11.18506017]\n",
      " [ 1.47106283]]\n",
      "X[5] = \n",
      "[[9.07242237]\n",
      " [1.65421278]]\n",
      "X[4] = \n",
      "[[6.87814934]\n",
      " [1.83433328]]\n",
      "X[3] = \n",
      "[[4.63392996]\n",
      " [1.95410547]]\n",
      "X[2] = \n",
      "[[2.47040325]\n",
      " [1.87294795]]\n",
      "X[1] = \n",
      "[[0.71696464]\n",
      " [1.33392928]]\n"
     ]
    }
   ],
   "source": [
    "A = np.array([ [[g_a_dash_f_minus(f_elements[0], f_elements[1] ,f_elements[2] , F_elements[0], F_elements[1], F_elements[2] , h, x[1]),g_a_dash_F_minus(f_elements[0], f_elements[1] ,f_elements[2] , F_elements[0], F_elements[1], F_elements[2] , h, x[1])],[g_b_dash_f_minus(f_elements[0], f_elements[1] ,f_elements[2] , F_elements[0], F_elements[1], F_elements[2] , h, x[1]), g_b_dash_F_minus(f_elements[0], f_elements[1] ,f_elements[2] , F_elements[0], F_elements[1], F_elements[2] , h, x[1])]] ])\n",
    "B = np.array([ [[g_a_dash_f_i(f_elements[0], f_elements[1] ,f_elements[2] , F_elements[0], F_elements[1], F_elements[2] , h, x[1]),g_a_dash_F_i(f_elements[0], f_elements[1] ,f_elements[2] , F_elements[0], F_elements[1], F_elements[2] , h, x[1])],[g_b_dash_f_i(f_elements[0], f_elements[1] ,f_elements[2] , F_elements[0], F_elements[1], F_elements[2] , h, x[1]), g_b_dash_F_i(f_elements[0], f_elements[1] ,f_elements[2] , F_elements[0], F_elements[1], F_elements[2] , h, x[1])]] ])\n",
    "C = np.array([ [[g_a_dash_f_plus(f_elements[0], f_elements[1] ,f_elements[2] , F_elements[0], F_elements[1], F_elements[2] , h, x[1]),g_a_dash_F_plus(f_elements[0], f_elements[1] ,f_elements[2] , F_elements[0], F_elements[1], F_elements[2] , h, x[1])],[g_b_dash_f_plus(f_elements[0], f_elements[1] ,f_elements[2] , F_elements[0], F_elements[1], F_elements[2] , h, x[1]), g_b_dash_F_plus(f_elements[0], f_elements[1] ,f_elements[2] , F_elements[0], F_elements[1], F_elements[2] , h, x[1])]] ])\n",
    "D = np.array([ [[-g_a(f_elements[0], f_elements[1] ,f_elements[2] , F_elements[0], F_elements[1], F_elements[2] , h, x[1])],[-g_b(f_elements[0], f_elements[1] ,f_elements[2] , F_elements[0], F_elements[1], F_elements[2] , h, x[1])]] ])\n",
    "print(\"A_1 =\" )\n",
    "print(A)\n",
    "print(\"B_1 =\" )\n",
    "print(B)\n",
    "print(\"C_1 =\" )\n",
    "print(C)\n",
    "print(\"D_1 =\" )\n",
    "print(D)\n",
    "for i in range(1,n):\n",
    "    A = np.append(A,[ [[g_a_dash_f_minus(f_elements[i-1], f_elements[i] ,f_elements[i+1] , F_elements[i-1], F_elements[i], F_elements[i+1] , h, x[i]),g_a_dash_F_minus(f_elements[i-1], f_elements[i] ,f_elements[i+1] , F_elements[i-1], F_elements[i], F_elements[i+1] , h, x[i])],[g_b_dash_f_minus(f_elements[i-1], f_elements[i] ,f_elements[i+1] , F_elements[i-1], F_elements[i], F_elements[i+1] , h, x[i]), g_b_dash_F_minus(f_elements[i-1], f_elements[i] ,f_elements[i+1] , F_elements[i-1], F_elements[i], F_elements[i+1] , h, x[i])]] ], axis=0)\n",
    "    B = np.append(B,[ [[g_a_dash_f_i(f_elements[i-1], f_elements[i] ,f_elements[i+1] , F_elements[i-1], F_elements[i], F_elements[i+1] , h, x[i]),g_a_dash_F_i(f_elements[i-1], f_elements[i] ,f_elements[i+1] , F_elements[i-1], F_elements[i], F_elements[i+1] , h, x[i])],[g_b_dash_f_i(f_elements[i-1], f_elements[i] ,f_elements[i+1] , F_elements[i-1], F_elements[i], F_elements[i+1] , h, x[i]), g_b_dash_F_i(f_elements[i-1], f_elements[i] ,f_elements[i+1] , F_elements[i-1], F_elements[i], F_elements[i+1] , h, x[i])]] ], axis=0)\n",
    "    C = np.append(C,[ [[g_a_dash_f_plus(f_elements[i-1], f_elements[i] ,f_elements[i+1] , F_elements[i-1], F_elements[i], F_elements[i+1] , h, x[i]),g_a_dash_F_plus(f_elements[i-1], f_elements[i] ,f_elements[i+1] , F_elements[i-1], F_elements[i], F_elements[i+1] , h, x[i])],[g_b_dash_f_plus(f_elements[i-1], f_elements[i] ,f_elements[i+1] , F_elements[i-1], F_elements[i], F_elements[i+1] , h, x[i]), g_b_dash_F_plus(f_elements[i-1], f_elements[i] ,f_elements[i+1] , F_elements[i-1], F_elements[i], F_elements[i+1] , h, x[i])]] ], axis=0)\n",
    "    D = np.append(D,[ [[-g_a(f_elements[i-1], f_elements[i] ,f_elements[i+1] , F_elements[i-1], F_elements[i], F_elements[i+1] , h, x[i])],[-g_b(f_elements[i-1], f_elements[i] ,f_elements[i+1] , F_elements[i-1], F_elements[i], F_elements[i+1] , h, x[i])]] ], axis=0)\n",
    "\n",
    "X_ans = np.array([[[0],[0]]],dtype = float)\n",
    "for i in range(n):\n",
    "    X_ans = np.append(X_ans, [[[0],[0]]] ,axis = 0)\n",
    "    \n",
    "D[1] = D[1] - np.dot(A[1], X_ans[0])\n",
    "cc_dash = np.dot(np.linalg.inv(B[1]),C[1] )\n",
    "dd_dash = np.dot(np.linalg.inv(B[1]),D[1] )\n",
    "C_dash = np.array([cc_dash])\n",
    "D_dash = np.array([dd_dash])\n",
    "C_dash = np.append(C_dash, [cc_dash], axis = 0)\n",
    "D_dash = np.append(D_dash, [dd_dash], axis = 0)\n",
    "for i in range(2,n):\n",
    "    b_dash = (B[i] - np.dot(A[i],C_dash[i-1]) )\n",
    "    b_dashinv = np.linalg.inv(b_dash)\n",
    "    cc_dash = np.dot(b_dashinv,C[i])\n",
    "    dd_dash = np.dot(b_dashinv , D[i] - np.dot(A[i],D_dash[i-1]))\n",
    "    C_dash = np.append(C_dash, [cc_dash], axis = 0)\n",
    "    D_dash = np.append(D_dash, [dd_dash], axis = 0)\n",
    "b_dash = (B[n-1] - np.dot(A[n-1],C_dash[n-2]) )\n",
    "b_dashinv = np.linalg.inv(b_dash)\n",
    "final_ans = np.dot(b_dashinv, D[n-1] - np.dot(C[n-1],X_ans[n]) - np.dot(A[n-1], D_dash[n-2]))\n",
    "X_ans[n-1] =  np.array(final_ans) \n",
    "for i in range(n-2, 0,-1):\n",
    "    #D_dash[i] - np.dot(C_dash[i], X_ans[i+1])\n",
    "    X_ans[i] = np.array(D_dash[i] - np.dot(C_dash[i], X_ans[i+1]))\n",
    "    print(\"X[\"+str(i) +\"] = \")\n",
    "    print(X_ans[i])\n",
    "\n",
    "diff = np.max(np.abs(X_ans))\n",
    "for i in range(1,n):\n",
    "    f_elements[i] = f_elements[i] + X_ans[i][0][0]\n",
    "    F_elements[i] = F_elements[i] + X_ans[i][1][0]"
   ]
  },
  {
   "cell_type": "code",
   "execution_count": 16,
   "metadata": {},
   "outputs": [
    {
     "data": {
      "text/plain": [
       "array([[16.95707034],\n",
       "       [ 0.78546594]])"
      ]
     },
     "execution_count": 16,
     "metadata": {},
     "output_type": "execute_result"
    }
   ],
   "source": [
    "X_ans[9]"
   ]
  },
  {
   "cell_type": "code",
   "execution_count": 24,
   "metadata": {},
   "outputs": [],
   "source": []
  },
  {
   "cell_type": "code",
   "execution_count": 28,
   "metadata": {},
   "outputs": [
    {
     "name": "stdout",
     "output_type": "stream",
     "text": [
      "1\n",
      "A_1 =\n",
      "[[[-1.  -0.5]\n",
      "  [ 0.   1. ]]]\n",
      "B_1 =\n",
      "[[[ 1.  -0.5]\n",
      "  [ 0.1 -2.2]]]\n",
      "C_1 =\n",
      "[[[0. 0.]\n",
      "  [0. 1.]]]\n",
      "D_1 =\n",
      "[[[ 0.05]\n",
      "  [-0.99]]]\n",
      "X[9] = \n",
      "[[16.95707034]\n",
      " [ 0.78546594]]\n",
      "X[8] = \n",
      "[[15.1648056 ]\n",
      " [ 1.09906354]]\n",
      "X[7] = \n",
      "[[13.21793271]\n",
      " [ 1.29468225]]\n",
      "X[6] = \n",
      "[[11.18506017]\n",
      " [ 1.47106283]]\n",
      "X[5] = \n",
      "[[9.07242237]\n",
      " [1.65421278]]\n",
      "X[4] = \n",
      "[[6.87814934]\n",
      " [1.83433328]]\n",
      "X[3] = \n",
      "[[4.63392996]\n",
      " [1.95410547]]\n",
      "X[2] = \n",
      "[[2.47040325]\n",
      " [1.87294795]]\n",
      "X[1] = \n",
      "[[0.71696464]\n",
      " [1.33392928]]\n",
      "2\n",
      "A_1 =\n",
      "[[[-1.         -0.5       ]\n",
      "  [ 0.          0.64151768]]]\n",
      "B_1 =\n",
      "[[[ 1.         -0.5       ]\n",
      "  [ 1.03647397 -4.86785856]]]\n",
      "C_1 =\n",
      "[[[0.         0.        ]\n",
      "  [0.         1.35848232]]]\n",
      "D_1 =\n",
      "[[[-0.        ]\n",
      "  [ 1.10794859]]]\n",
      "X[9] = \n",
      "[[-6.23973475]\n",
      " [-0.46461449]]\n",
      "X[8] = \n",
      "[[-5.69753835]\n",
      " [-0.61977831]]\n",
      "X[7] = \n",
      "[[-5.03959292]\n",
      " [-0.69611256]]\n",
      "X[6] = \n",
      "[[-4.31286347]\n",
      " [-0.75734634]]\n",
      "X[5] = \n",
      "[[-3.52394574]\n",
      " [-0.82048914]]\n",
      "X[4] = \n",
      "[[-2.67347747]\n",
      " [-0.8804474 ]]\n",
      "X[3] = \n",
      "[[-1.78031696]\n",
      " [-0.9058736 ]]\n",
      "X[2] = \n",
      "[[-0.91869342]\n",
      " [-0.81737349]]\n",
      "X[1] = \n",
      "[[-0.25500334]\n",
      " [-0.51000667]]\n",
      "3\n",
      "A_1 =\n",
      "[[[-1.         -0.5       ]\n",
      "  [ 0.          0.76901935]]]\n",
      "B_1 =\n",
      "[[[ 1.         -0.5       ]\n",
      "  [ 0.62778723 -3.84784521]]]\n",
      "C_1 =\n",
      "[[[0.         0.        ]\n",
      "  [0.         1.23098065]]]\n",
      "D_1 =\n",
      "[[[-1.11022302e-16]\n",
      "  [ 1.55890323e-01]]]\n",
      "X[9] = \n",
      "[[-2.12689391]\n",
      " [-0.18505211]]\n",
      "X[8] = \n",
      "[[-1.91615041]\n",
      " [-0.23643491]]\n",
      "X[7] = \n",
      "[[-1.67039425]\n",
      " [-0.25507741]]\n",
      "X[6] = \n",
      "[[-1.40801507]\n",
      " [-0.26968095]]\n",
      "X[5] = \n",
      "[[-1.12936833]\n",
      " [-0.28761253]]\n",
      "X[4] = \n",
      "[[-0.83258262]\n",
      " [-0.30595889]]\n",
      "X[3] = \n",
      "[[-0.52757567]\n",
      " [-0.30405501]]\n",
      "X[2] = \n",
      "[[-0.25264204]\n",
      " [-0.24581225]]\n",
      "X[1] = \n",
      "[[-0.06486796]\n",
      " [-0.12973592]]\n",
      "4\n",
      "A_1 =\n",
      "[[[-1.         -0.5       ]\n",
      "  [ 0.          0.80145333]]]\n",
      "B_1 =\n",
      "[[[ 1.         -0.5       ]\n",
      "  [ 0.5048811  -3.58837338]]]\n",
      "C_1 =\n",
      "[[[0.         0.        ]\n",
      "  [0.         1.19854667]]]\n",
      "D_1 =\n",
      "[[[-0.        ]\n",
      "  [ 0.00885874]]]\n",
      "X[9] = \n",
      "[[-0.32108422]\n",
      " [-0.03474873]]\n",
      "X[8] = \n",
      "[[-0.2828739 ]\n",
      " [-0.04167189]]\n",
      "X[7] = \n",
      "[[-0.24085508]\n",
      " [-0.04236575]]\n",
      "X[6] = \n",
      "[[-0.19819642]\n",
      " [-0.04295158]]\n",
      "X[5] = \n",
      "[[-0.15423422]\n",
      " [-0.04497281]]\n",
      "X[4] = \n",
      "[[-0.10829987]\n",
      " [-0.04689589]]\n",
      "X[3] = \n",
      "[[-0.06351168]\n",
      " [-0.0426805 ]]\n",
      "X[2] = \n",
      "[[-0.02763588]\n",
      " [-0.0290711 ]]\n",
      "X[1] = \n",
      "[[-0.00655016]\n",
      " [-0.01310033]]\n",
      "5\n",
      "A_1 =\n",
      "[[[-1.         -0.5       ]\n",
      "  [ 0.          0.80472841]]]\n",
      "B_1 =\n",
      "[[[ 1.         -0.5       ]\n",
      "  [ 0.49034555 -3.56217272]]]\n",
      "C_1 =\n",
      "[[[0.         0.        ]\n",
      "  [0.         1.19527159]]]\n",
      "D_1 =\n",
      "[[[-0.00000000e+00]\n",
      "  [ 7.64083327e-05]]]\n",
      "X[9] = \n",
      "[[-0.00775759]\n",
      " [-0.00104923]]\n",
      "X[8] = \n",
      "[[-0.00664378]\n",
      " [-0.00117838]]\n",
      "X[7] = \n",
      "[[-0.00549281]\n",
      " [-0.00112356]]\n",
      "X[6] = \n",
      "[[-0.00438655]\n",
      " [-0.00108897]]\n",
      "X[5] = \n",
      "[[-0.00328272]\n",
      " [-0.0011187 ]]\n",
      "X[4] = \n",
      "[[-0.00216678]\n",
      " [-0.00111318]]\n",
      "X[3] = \n",
      "[[-0.00116392]\n",
      " [-0.00089255]]\n",
      "X[2] = \n",
      "[[-0.00046234]\n",
      " [-0.00051061]]\n",
      "X[1] = \n",
      "[[-0.00010352]\n",
      " [-0.00020703]]\n",
      "6\n",
      "A_1 =\n",
      "[[[-1.         -0.5       ]\n",
      "  [ 0.          0.80478017]]]\n",
      "B_1 =\n",
      "[[[ 1.         -0.5       ]\n",
      "  [ 0.49009025 -3.56175866]]]\n",
      "C_1 =\n",
      "[[[0.         0.        ]\n",
      "  [0.         1.19521983]]]\n",
      "D_1 =\n",
      "[[[-0.0000000e+00]\n",
      "  [ 1.6434143e-08]]]\n",
      "X[9] = \n",
      "[[-4.68518788e-06]\n",
      " [-7.75101043e-07]]\n",
      "X[8] = \n",
      "[[-3.88700822e-06]\n",
      " [-8.21258273e-07]]\n",
      "X[7] = \n",
      "[[-3.10771030e-06]\n",
      " [-7.37337564e-07]]\n",
      "X[6] = \n",
      "[[-2.39646686e-06]\n",
      " [-6.85149333e-07]]\n",
      "X[5] = \n",
      "[[-1.71304817e-06]\n",
      " [-6.81688031e-07]]\n",
      "X[4] = \n",
      "[[-1.05845706e-06]\n",
      " [-6.27494197e-07]]\n",
      "X[3] = \n",
      "[[-5.24861232e-07]\n",
      " [-4.39697457e-07]]\n",
      "X[2] = \n",
      "[[-1.94726638e-07]\n",
      " [-2.20571732e-07]]\n",
      "X[1] = \n",
      "[[-4.22203860e-08]\n",
      " [-8.44407719e-08]]\n"
     ]
    }
   ],
   "source": [
    "f_0 = 0\n",
    "F_0 = 0\n",
    "F_n = 1.0\n",
    "del_F = (F_n - F_0)/n\n",
    "f_elements = np.array([])\n",
    "F_elements = np.array([])\n",
    "k = F_0\n",
    "error = 0.00001\n",
    "diff = 1\n",
    "for i in range(n+1):\n",
    "    f_elements = np.append(f_elements, 0)\n",
    "    F_elements = np.append(F_elements, k)\n",
    "    k = k + del_F\n",
    "iteration = 0\n",
    "while(diff > error):\n",
    "    iteration = iteration +1\n",
    "    if(iteration > 20):\n",
    "        break\n",
    "    print(iteration)\n",
    "    A = np.array([ [[g_a_dash_f_minus(f_elements[0], f_elements[1] ,f_elements[2] , F_elements[0], F_elements[1], F_elements[2] , h, x[1]),g_a_dash_F_minus(f_elements[0], f_elements[1] ,f_elements[2] , F_elements[0], F_elements[1], F_elements[2] , h, x[1])],[g_b_dash_f_minus(f_elements[0], f_elements[1] ,f_elements[2] , F_elements[0], F_elements[1], F_elements[2] , h, x[1]), g_b_dash_F_minus(f_elements[0], f_elements[1] ,f_elements[2] , F_elements[0], F_elements[1], F_elements[2] , h, x[1])]] ])\n",
    "    B = np.array([ [[g_a_dash_f_i(f_elements[0], f_elements[1] ,f_elements[2] , F_elements[0], F_elements[1], F_elements[2] , h, x[1]),g_a_dash_F_i(f_elements[0], f_elements[1] ,f_elements[2] , F_elements[0], F_elements[1], F_elements[2] , h, x[1])],[g_b_dash_f_i(f_elements[0], f_elements[1] ,f_elements[2] , F_elements[0], F_elements[1], F_elements[2] , h, x[1]), g_b_dash_F_i(f_elements[0], f_elements[1] ,f_elements[2] , F_elements[0], F_elements[1], F_elements[2] , h, x[1])]] ])\n",
    "    C = np.array([ [[g_a_dash_f_plus(f_elements[0], f_elements[1] ,f_elements[2] , F_elements[0], F_elements[1], F_elements[2] , h, x[1]),g_a_dash_F_plus(f_elements[0], f_elements[1] ,f_elements[2] , F_elements[0], F_elements[1], F_elements[2] , h, x[1])],[g_b_dash_f_plus(f_elements[0], f_elements[1] ,f_elements[2] , F_elements[0], F_elements[1], F_elements[2] , h, x[1]), g_b_dash_F_plus(f_elements[0], f_elements[1] ,f_elements[2] , F_elements[0], F_elements[1], F_elements[2] , h, x[1])]] ])\n",
    "    D = np.array([ [[-g_a(f_elements[0], f_elements[1] ,f_elements[2] , F_elements[0], F_elements[1], F_elements[2] , h, x[1])],[-g_b(f_elements[0], f_elements[1] ,f_elements[2] , F_elements[0], F_elements[1], F_elements[2] , h, x[1])]] ])\n",
    "    print(\"A_1 =\" )\n",
    "    print(A)\n",
    "    print(\"B_1 =\" )\n",
    "    print(B)\n",
    "    print(\"C_1 =\" )\n",
    "    print(C)\n",
    "    print(\"D_1 =\" )\n",
    "    print(D)\n",
    "    for i in range(1,n):\n",
    "        A = np.append(A,[ [[g_a_dash_f_minus(f_elements[i-1], f_elements[i] ,f_elements[i+1] , F_elements[i-1], F_elements[i], F_elements[i+1] , h, x[i]),g_a_dash_F_minus(f_elements[i-1], f_elements[i] ,f_elements[i+1] , F_elements[i-1], F_elements[i], F_elements[i+1] , h, x[i])],[g_b_dash_f_minus(f_elements[i-1], f_elements[i] ,f_elements[i+1] , F_elements[i-1], F_elements[i], F_elements[i+1] , h, x[i]), g_b_dash_F_minus(f_elements[i-1], f_elements[i] ,f_elements[i+1] , F_elements[i-1], F_elements[i], F_elements[i+1] , h, x[i])]] ], axis=0)\n",
    "        B = np.append(B,[ [[g_a_dash_f_i(f_elements[i-1], f_elements[i] ,f_elements[i+1] , F_elements[i-1], F_elements[i], F_elements[i+1] , h, x[i]),g_a_dash_F_i(f_elements[i-1], f_elements[i] ,f_elements[i+1] , F_elements[i-1], F_elements[i], F_elements[i+1] , h, x[i])],[g_b_dash_f_i(f_elements[i-1], f_elements[i] ,f_elements[i+1] , F_elements[i-1], F_elements[i], F_elements[i+1] , h, x[i]), g_b_dash_F_i(f_elements[i-1], f_elements[i] ,f_elements[i+1] , F_elements[i-1], F_elements[i], F_elements[i+1] , h, x[i])]] ], axis=0)\n",
    "        C = np.append(C,[ [[g_a_dash_f_plus(f_elements[i-1], f_elements[i] ,f_elements[i+1] , F_elements[i-1], F_elements[i], F_elements[i+1] , h, x[i]),g_a_dash_F_plus(f_elements[i-1], f_elements[i] ,f_elements[i+1] , F_elements[i-1], F_elements[i], F_elements[i+1] , h, x[i])],[g_b_dash_f_plus(f_elements[i-1], f_elements[i] ,f_elements[i+1] , F_elements[i-1], F_elements[i], F_elements[i+1] , h, x[i]), g_b_dash_F_plus(f_elements[i-1], f_elements[i] ,f_elements[i+1] , F_elements[i-1], F_elements[i], F_elements[i+1] , h, x[i])]] ], axis=0)\n",
    "        D = np.append(D,[ [[-g_a(f_elements[i-1], f_elements[i] ,f_elements[i+1] , F_elements[i-1], F_elements[i], F_elements[i+1] , h, x[i])],[-g_b(f_elements[i-1], f_elements[i] ,f_elements[i+1] , F_elements[i-1], F_elements[i], F_elements[i+1] , h, x[i])]] ], axis=0)\n",
    "\n",
    "    X_ans = np.array([[[0],[0]]],dtype = float)\n",
    "    for i in range(n):\n",
    "        X_ans = np.append(X_ans, [[[0],[0]]] ,axis = 0)\n",
    "\n",
    "    D[1] = D[1] - np.dot(A[1], X_ans[0])\n",
    "    cc_dash = np.dot(np.linalg.inv(B[1]),C[1] )\n",
    "    dd_dash = np.dot(np.linalg.inv(B[1]),D[1] )\n",
    "    C_dash = np.array([cc_dash])\n",
    "    D_dash = np.array([dd_dash])\n",
    "    C_dash = np.append(C_dash, [cc_dash], axis = 0)\n",
    "    D_dash = np.append(D_dash, [dd_dash], axis = 0)\n",
    "    for i in range(2,n):\n",
    "        b_dash = (B[i] - np.dot(A[i],C_dash[i-1]) )\n",
    "        b_dashinv = np.linalg.inv(b_dash)\n",
    "        cc_dash = np.dot(b_dashinv,C[i])\n",
    "        dd_dash = np.dot(b_dashinv , D[i] - np.dot(A[i],D_dash[i-1]))\n",
    "        C_dash = np.append(C_dash, [cc_dash], axis = 0)\n",
    "        D_dash = np.append(D_dash, [dd_dash], axis = 0)\n",
    "    b_dash = (B[n-1] - np.dot(A[n-1],C_dash[n-2]) )\n",
    "    b_dashinv = np.linalg.inv(b_dash)\n",
    "    final_ans = np.dot(b_dashinv, D[n-1] - np.dot(C[n-1],X_ans[n]) - np.dot(A[n-1], D_dash[n-2]))\n",
    "    X_ans[n-1] =  np.array(final_ans) \n",
    "    print(\"X[\"+str(n-1) +\"] = \")\n",
    "    print(X_ans[n-1])\n",
    "    for i in range(n-2, 0,-1):\n",
    "        #D_dash[i] - np.dot(C_dash[i], X_ans[i+1])\n",
    "        X_ans[i] = np.array(D_dash[i] - np.dot(C_dash[i], X_ans[i+1]))\n",
    "        print(\"X[\"+str(i) +\"] = \")\n",
    "        print(X_ans[i])\n",
    "\n",
    "    diff = np.max(np.abs(X_ans))\n",
    "    for i in range(1,n):\n",
    "        f_elements[i] = f_elements[i] + X_ans[i][0][0]\n",
    "        F_elements[i] = F_elements[i] + X_ans[i][1][0]"
   ]
  },
  {
   "cell_type": "code",
   "execution_count": 29,
   "metadata": {},
   "outputs": [
    {
     "data": {
      "text/plain": [
       "array([0.        , 0.39043962, 1.27096938, 2.26136121, 3.26162154,\n",
       "       4.26158965, 5.26159627, 6.26159454, 7.26159527, 8.26159519,\n",
       "       0.        ])"
      ]
     },
     "execution_count": 29,
     "metadata": {},
     "output_type": "execute_result"
    }
   ],
   "source": [
    "f_elements"
   ]
  },
  {
   "cell_type": "code",
   "execution_count": 1,
   "metadata": {},
   "outputs": [],
   "source": [
    "import numpy as np\n",
    "from matplotlib import pyplot as plt "
   ]
  },
  {
   "cell_type": "code",
   "execution_count": 2,
   "metadata": {},
   "outputs": [],
   "source": [
    "def g_a(f_i_minus, f_i , f_i_plus,F_i_minus, F_i , F_i_plus, h, x_i):\n",
    "    k = f_i - f_i_minus - h* ((F_i + F_i_minus)/2.0)\n",
    "    return k\n",
    "def g_a_dash_f_minus(f_i_minus, f_i , f_i_plus,F_i_minus, F_i , F_i_plus, h, x_i):\n",
    "    k = -1.0\n",
    "    return k\n",
    "def g_a_dash_f_i(f_i_minus, f_i , f_i_plus,F_i_minus, F_i , F_i_plus, h, x_i):\n",
    "    k = 1.0\n",
    "    return k\n",
    "def g_a_dash_f_plus(f_i_minus, f_i , f_i_plus,F_i_minus, F_i , F_i_plus, h, x_i):\n",
    "    k = 0.0\n",
    "    return k\n",
    "def g_a_dash_F_minus(f_i_minus, f_i , f_i_plus,F_i_minus, F_i , F_i_plus, h, x_i):\n",
    "    k = -h/2\n",
    "    return k\n",
    "def g_a_dash_F_i(f_i_minus, f_i , f_i_plus,F_i_minus, F_i , F_i_plus, h, x_i):\n",
    "    k = -h/2\n",
    "    return k\n",
    "def g_a_dash_F_plus(f_i_minus, f_i , f_i_plus,F_i_minus, F_i , F_i_plus, h, x_i):\n",
    "    k = 0.0\n",
    "    return k\n",
    "\n",
    "def g_b(f_i_minus, f_i , f_i_plus,F_i_minus, F_i , F_i_plus, h, x_i):\n",
    "    k = ((F_i_plus - 2 * F_i + F_i_minus)/ (h*h)) + F_i*(2 * f_i + 4)\n",
    "    return k\n",
    "def g_b_dash_f_minus(f_i_minus, f_i , f_i_plus,F_i_minus, F_i , F_i_plus, h, x_i):\n",
    "    k = 0.0\n",
    "    return k\n",
    "def g_b_dash_f_i(f_i_minus, f_i , f_i_plus,F_i_minus, F_i , F_i_plus, h, x_i):\n",
    "    k = 2 * F_i\n",
    "    return k\n",
    "def g_b_dash_f_plus(f_i_minus, f_i , f_i_plus,F_i_minus, F_i , F_i_plus, h, x_i):\n",
    "    k = 0.0\n",
    "    return k\n",
    "def g_b_dash_F_minus(f_i_minus, f_i , f_i_plus,F_i_minus, F_i , F_i_plus, h, x_i):\n",
    "    k = (1/(h*h)) \n",
    "    return k\n",
    "def g_b_dash_F_i(f_i_minus, f_i , f_i_plus,F_i_minus, F_i , F_i_plus, h, x_i):\n",
    "    k = (-2/(h*h)) + 2 * f_i + 4\n",
    "    return k\n",
    "def g_b_dash_F_plus(f_i_minus, f_i , f_i_plus,F_i_minus, F_i , F_i_plus, h, x_i):\n",
    "    k = (1/(h*h))\n",
    "    return k"
   ]
  },
  {
   "cell_type": "code",
   "execution_count": 3,
   "metadata": {},
   "outputs": [],
   "source": [
    "x_0 = 0\n",
    "x_n = 0.087\n",
    "n = 10\n",
    "h = (x_n - x_0)/n\n",
    "x = np.array([])\n",
    "for i in range(n+1):\n",
    "    x = np.append(x, i*h)"
   ]
  },
  {
   "cell_type": "code",
   "execution_count": 5,
   "metadata": {},
   "outputs": [
    {
     "name": "stdout",
     "output_type": "stream",
     "text": [
      "\n",
      " Iteration : 1\n",
      "\n",
      " Iteration : 2\n",
      "The solution converged to a final answer \n",
      " And the values of f are \n",
      "f(0.0) = 0.0\n",
      "F(0.0) = 0.0\n",
      "\n",
      "f(0.0087) = 0.0\n",
      "F(0.0087) = 0.0\n",
      "\n",
      "f(0.0174) = 0.0\n",
      "F(0.0174) = 0.0\n",
      "\n",
      "f(0.026099999999999998) = 0.0\n",
      "F(0.026099999999999998) = 0.0\n",
      "\n",
      "f(0.0348) = 0.0\n",
      "F(0.0348) = 0.0\n",
      "\n",
      "f(0.0435) = 0.0\n",
      "F(0.0435) = 0.0\n",
      "\n",
      "f(0.052199999999999996) = 0.0\n",
      "F(0.052199999999999996) = 0.0\n",
      "\n",
      "f(0.060899999999999996) = 0.0\n",
      "F(0.060899999999999996) = 0.0\n",
      "\n",
      "f(0.0696) = 0.0\n",
      "F(0.0696) = 0.0\n",
      "\n",
      "f(0.0783) = 0.0\n",
      "F(0.0783) = 0.0\n",
      "\n"
     ]
    },
    {
     "data": {
      "image/png": "[encoded data removed]",
      "text/plain": [
       "<Figure size 432x288 with 1 Axes>"
      ]
     },
     "metadata": {
      "needs_background": "light"
     },
     "output_type": "display_data"
    }
   ],
   "source": [
    "f_0 = 0\n",
    "F_0 = 0\n",
    "F_n = 0\n",
    "del_F = (F_n - F_0)/n\n",
    "f_elements = np.array([])\n",
    "F_elements = np.array([])\n",
    "k = F_0\n",
    "error = 0.00001\n",
    "diff = 1\n",
    "for i in range(n+1):\n",
    "    f_elements = np.append(f_elements, x[i])\n",
    "    F_elements = np.append(F_elements, k)\n",
    "    k = k + del_F\n",
    "iteration = 0\n",
    "while(diff > error):\n",
    "    iteration = iteration +1\n",
    "    if(iteration > 20):\n",
    "        break\n",
    "    print('\\n Iteration : ' + str(iteration) )\n",
    "    A = np.array([ [[g_a_dash_f_minus(f_elements[0], f_elements[1] ,f_elements[2] , F_elements[0], F_elements[1], F_elements[2] , h, x[1]),g_a_dash_F_minus(f_elements[0], f_elements[1] ,f_elements[2] , F_elements[0], F_elements[1], F_elements[2] , h, x[1])],[g_b_dash_f_minus(f_elements[0], f_elements[1] ,f_elements[2] , F_elements[0], F_elements[1], F_elements[2] , h, x[1]), g_b_dash_F_minus(f_elements[0], f_elements[1] ,f_elements[2] , F_elements[0], F_elements[1], F_elements[2] , h, x[1])]] ])\n",
    "    B = np.array([ [[g_a_dash_f_i(f_elements[0], f_elements[1] ,f_elements[2] , F_elements[0], F_elements[1], F_elements[2] , h, x[1]),g_a_dash_F_i(f_elements[0], f_elements[1] ,f_elements[2] , F_elements[0], F_elements[1], F_elements[2] , h, x[1])],[g_b_dash_f_i(f_elements[0], f_elements[1] ,f_elements[2] , F_elements[0], F_elements[1], F_elements[2] , h, x[1]), g_b_dash_F_i(f_elements[0], f_elements[1] ,f_elements[2] , F_elements[0], F_elements[1], F_elements[2] , h, x[1])]] ])\n",
    "    C = np.array([ [[g_a_dash_f_plus(f_elements[0], f_elements[1] ,f_elements[2] , F_elements[0], F_elements[1], F_elements[2] , h, x[1]),g_a_dash_F_plus(f_elements[0], f_elements[1] ,f_elements[2] , F_elements[0], F_elements[1], F_elements[2] , h, x[1])],[g_b_dash_f_plus(f_elements[0], f_elements[1] ,f_elements[2] , F_elements[0], F_elements[1], F_elements[2] , h, x[1]), g_b_dash_F_plus(f_elements[0], f_elements[1] ,f_elements[2] , F_elements[0], F_elements[1], F_elements[2] , h, x[1])]] ])\n",
    "    D = np.array([ [[-g_a(f_elements[0], f_elements[1] ,f_elements[2] , F_elements[0], F_elements[1], F_elements[2] , h, x[1])],[-g_b(f_elements[0], f_elements[1] ,f_elements[2] , F_elements[0], F_elements[1], F_elements[2] , h, x[1])]] ])\n",
    "    for i in range(1,n):\n",
    "        A = np.append(A,[ [[g_a_dash_f_minus(f_elements[i-1], f_elements[i] ,f_elements[i+1] , F_elements[i-1], F_elements[i], F_elements[i+1] , h, x[i]),g_a_dash_F_minus(f_elements[i-1], f_elements[i] ,f_elements[i+1] , F_elements[i-1], F_elements[i], F_elements[i+1] , h, x[i])],[g_b_dash_f_minus(f_elements[i-1], f_elements[i] ,f_elements[i+1] , F_elements[i-1], F_elements[i], F_elements[i+1] , h, x[i]), g_b_dash_F_minus(f_elements[i-1], f_elements[i] ,f_elements[i+1] , F_elements[i-1], F_elements[i], F_elements[i+1] , h, x[i])]] ], axis=0)\n",
    "        B = np.append(B,[ [[g_a_dash_f_i(f_elements[i-1], f_elements[i] ,f_elements[i+1] , F_elements[i-1], F_elements[i], F_elements[i+1] , h, x[i]),g_a_dash_F_i(f_elements[i-1], f_elements[i] ,f_elements[i+1] , F_elements[i-1], F_elements[i], F_elements[i+1] , h, x[i])],[g_b_dash_f_i(f_elements[i-1], f_elements[i] ,f_elements[i+1] , F_elements[i-1], F_elements[i], F_elements[i+1] , h, x[i]), g_b_dash_F_i(f_elements[i-1], f_elements[i] ,f_elements[i+1] , F_elements[i-1], F_elements[i], F_elements[i+1] , h, x[i])]] ], axis=0)\n",
    "        C = np.append(C,[ [[g_a_dash_f_plus(f_elements[i-1], f_elements[i] ,f_elements[i+1] , F_elements[i-1], F_elements[i], F_elements[i+1] , h, x[i]),g_a_dash_F_plus(f_elements[i-1], f_elements[i] ,f_elements[i+1] , F_elements[i-1], F_elements[i], F_elements[i+1] , h, x[i])],[g_b_dash_f_plus(f_elements[i-1], f_elements[i] ,f_elements[i+1] , F_elements[i-1], F_elements[i], F_elements[i+1] , h, x[i]), g_b_dash_F_plus(f_elements[i-1], f_elements[i] ,f_elements[i+1] , F_elements[i-1], F_elements[i], F_elements[i+1] , h, x[i])]] ], axis=0)\n",
    "        D = np.append(D,[ [[-g_a(f_elements[i-1], f_elements[i] ,f_elements[i+1] , F_elements[i-1], F_elements[i], F_elements[i+1] , h, x[i])],[-g_b(f_elements[i-1], f_elements[i] ,f_elements[i+1] , F_elements[i-1], F_elements[i], F_elements[i+1] , h, x[i])]] ], axis=0)\n",
    "\n",
    "    X_ans = np.array([[[0],[0]]],dtype = float)\n",
    "    for i in range(n):\n",
    "        X_ans = np.append(X_ans, [[[0],[0]]] ,axis = 0)\n",
    "    #print('Here, we have : ')\n",
    "    #for i in range(1,n):\n",
    "    #    print(str(A[i]) + str(X_ans[i-1]) + ' + ' + str(B[i])+ str(X_ans[i]) + ' + ' + str(C[i]) + str(X_ans[i+1]) + ' = '+ str(D[i]) )\n",
    "    D[1] = D[1] - np.dot(A[1], X_ans[0])\n",
    "    cc_dash = np.dot(np.linalg.inv(B[1]),C[1] )\n",
    "    dd_dash = np.dot(np.linalg.inv(B[1]),D[1] )\n",
    "    C_dash = np.array([cc_dash])\n",
    "    D_dash = np.array([dd_dash])\n",
    "    C_dash = np.append(C_dash, [cc_dash], axis = 0)\n",
    "    D_dash = np.append(D_dash, [dd_dash], axis = 0)\n",
    "    for i in range(2,n):\n",
    "        b_dash = (B[i] - np.dot(A[i],C_dash[i-1]) )\n",
    "        b_dashinv = np.linalg.inv(b_dash)\n",
    "        cc_dash = np.dot(b_dashinv,C[i])\n",
    "        dd_dash = np.dot(b_dashinv , D[i] - np.dot(A[i],D_dash[i-1]))\n",
    "        C_dash = np.append(C_dash, [cc_dash], axis = 0)\n",
    "        D_dash = np.append(D_dash, [dd_dash], axis = 0)\n",
    "    b_dash = (B[n-1] - np.dot(A[n-1],C_dash[n-2]) )\n",
    "    b_dashinv = np.linalg.inv(b_dash)\n",
    "    final_ans = np.dot(b_dashinv, D[n-1] - np.dot(C[n-1],X_ans[n]) - np.dot(A[n-1], D_dash[n-2]))\n",
    "    X_ans[n-1] =  np.array(final_ans) \n",
    "    #print(\"X[\"+str(n-1) +\"] = \")\n",
    "    #print(X_ans[n-1])\n",
    "    for i in range(n-2, 0,-1):\n",
    "        #D_dash[i] - np.dot(C_dash[i], X_ans[i+1])\n",
    "        X_ans[i] = np.array(D_dash[i] - np.dot(C_dash[i], X_ans[i+1]))\n",
    "        #print(\"X[\"+str(i) +\"] = \")\n",
    "        #print(X_ans[i])\n",
    "\n",
    "    diff = np.max(np.abs(X_ans))\n",
    "    for i in range(1,n):\n",
    "        f_elements[i] = f_elements[i] + X_ans[i][0][0]\n",
    "        F_elements[i] = F_elements[i] + X_ans[i][1][0]\n",
    "\n",
    "if(iteration < 20):\n",
    "    print('The solution converged to a final answer \\n And the values of f are ')\n",
    "    for i in range(n):\n",
    "        print('f(' +str(x[i])+') = ' +str(f_elements[i]) )\n",
    "        print('F(' +str(x[i])+') = ' +str(F_elements[i]) + str('\\n')) \n",
    "    y_axis = np.array([],dtype = float)\n",
    "    x_axis = np.array([],dtype = float)\n",
    "    for i in range(1,n):\n",
    "        x_axis = np.append(x_axis, x[i])\n",
    "        y_axis = np.append(y_axis, f_elements[i])\n",
    "    plt.title(\"Solution\") \n",
    "    plt.xlabel(\"x \") \n",
    "    plt.ylabel(\"f \") \n",
    "    plt.plot(x_axis,y_axis) \n",
    "    plt.show()\n",
    "    "
   ]
  },
  {
   "cell_type": "code",
   "execution_count": null,
   "metadata": {},
   "outputs": [],
   "source": []
  }
 ],
 "metadata": {
  "kernelspec": {
   "display_name": "Python 3",
   "language": "python",
   "name": "python3"
  },
  "language_info": {
   "codemirror_mode": {
    "name": "ipython",
    "version": 3
   },
   "file_extension": ".py",
   "mimetype": "text/x-python",
   "name": "python",
   "nbconvert_exporter": "python",
   "pygments_lexer": "ipython3",
   "version": "3.7.5"
  }
 },
 "nbformat": 4,
 "nbformat_minor": 4
}
